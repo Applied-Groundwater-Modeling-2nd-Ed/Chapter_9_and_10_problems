{
 "cells": [
  {
   "cell_type": "markdown",
   "metadata": {},
   "source": [
    "## Chapter 9 problem: making the model using Flopy\n",
    "see Anderson, Woessner and Hunt (2015), p 432 for a description\n",
    "\n",
    "requires the ```flopy``` package (https://github.com/modflowpy/flopy)\n",
    "\n",
    "<img src=\"images/prob_descrip.png\", align=\"left\">"
   ]
  },
  {
   "cell_type": "code",
   "execution_count": 1,
   "metadata": {
    "collapsed": false
   },
   "outputs": [
    {
     "name": "stderr",
     "output_type": "stream",
     "text": [
      "//anaconda/lib/python2.7/site-packages/matplotlib/font_manager.py:273: UserWarning: Matplotlib is building the font cache using fc-list. This may take a moment.\n",
      "  warnings.warn('Matplotlib is building the font cache using fc-list. This may take a moment.')\n"
     ]
    }
   ],
   "source": [
    "import os\n",
    "import numpy as np\n",
    "import matplotlib.pyplot as plt\n",
    "import matplotlib as mpl\n",
    "import pandas as pd\n",
    "import flopy\n",
    "%matplotlib inline\n",
    "\n",
    "plt.rcParams['figure.figsize'] = (10, 10)"
   ]
  },
  {
   "cell_type": "markdown",
   "metadata": {},
   "source": [
    "### Define general model characteristics"
   ]
  },
  {
   "cell_type": "code",
   "execution_count": 2,
   "metadata": {
    "collapsed": false
   },
   "outputs": [],
   "source": [
    "path = 'modelfiles' # folder model and PEST files\n",
    "modelname = 'P9Tcal'\n",
    "MODFLOW_version='mfnwt'\n",
    "MODFLOW_exe_name='MODFLOW-NWT.exe', \n",
    "\n",
    "#model domain and grid definition\n",
    "Lx = 1500.\n",
    "Ly = 1500.\n",
    "ztop = 600.\n",
    "zbot = 450.\n",
    "nlay = 1\n",
    "nrow = 15\n",
    "ncol = 15\n",
    "delr = Lx / ncol\n",
    "delc = Ly / nrow\n",
    "delv = (ztop - zbot) / nlay\n",
    "botm = np.linspace(ztop, zbot, nlay + 1)\n",
    "\n",
    "# ibound array\n",
    "ibound = np.ones((nlay, nrow, ncol), dtype=int)\n",
    "\n",
    "# starting heads\n",
    "strt = 515. * np.ones((nlay, nrow, ncol), dtype=float)\n",
    "\n",
    "# properties\n",
    "Khvalues = {1: 75, 2: 7.5} # dictionary of K values by zone number (1 = sand, 2 = silt)\n",
    "Vani = 1.\n",
    "sy = 0.1\n",
    "ss = 1.e-4\n",
    "laytyp = 1\n",
    "\n",
    "# global BC settings\n",
    "m_riv = 2 # riverbed thickness\n",
    "w_riv = 100 # riverbed width\n",
    "R = 0.0001 # recharge rate\n",
    "Qleak = 45000 # flow through southern boundary (pos. = inflow)\n",
    "Rcond = 150000\n",
    "\n",
    "# pumping well for transient simulation\n",
    "QA = -20000\n",
    "pumping_well_info = [0, 6, 10, QA] # l, r, c, Q zero-based for flopy!\n",
    "\n",
    "# Stress Periods\n",
    "nper = 2\n",
    "perlen = [1, 3]\n",
    "nstp = [1, 10]\n",
    "tsmult = [1, 2]\n",
    "steady = [True, False]"
   ]
  },
  {
   "cell_type": "markdown",
   "metadata": {},
   "source": [
    "### Create flopy MODFLOW and package objects"
   ]
  },
  {
   "cell_type": "code",
   "execution_count": 3,
   "metadata": {
    "collapsed": true
   },
   "outputs": [],
   "source": [
    "m = flopy.modflow.Modflow(modelname, version=MODFLOW_version, \n",
    "                          exe_name=MODFLOW_exe_name, model_ws=path)"
   ]
  },
  {
   "cell_type": "markdown",
   "metadata": {},
   "source": [
    "#### Discretization"
   ]
  },
  {
   "cell_type": "code",
   "execution_count": 4,
   "metadata": {
    "collapsed": true
   },
   "outputs": [],
   "source": [
    "dis = flopy.modflow.ModflowDis(m, nlay, nrow, ncol, delr=delr, delc=delc,\n",
    "                               top=ztop, botm=botm[1:],\n",
    "                               nper=nper, perlen=perlen, tsmult=tsmult, nstp=nstp, steady=steady)"
   ]
  },
  {
   "cell_type": "markdown",
   "metadata": {},
   "source": [
    "#### BAS"
   ]
  },
  {
   "cell_type": "code",
   "execution_count": 5,
   "metadata": {
    "collapsed": true
   },
   "outputs": [],
   "source": [
    "bas = flopy.modflow.ModflowBas(m, ibound=ibound, strt=strt)"
   ]
  },
  {
   "cell_type": "markdown",
   "metadata": {},
   "source": [
    "#### Output control"
   ]
  },
  {
   "cell_type": "code",
   "execution_count": 6,
   "metadata": {
    "collapsed": false
   },
   "outputs": [],
   "source": [
    "words = ['save head','save drawdown','save budget']\n",
    "oc = flopy.modflow.ModflowOc(m, stress_period_data={(0,0): words}, compact=True)"
   ]
  },
  {
   "cell_type": "markdown",
   "metadata": {},
   "source": [
    "#### Solver"
   ]
  },
  {
   "cell_type": "code",
   "execution_count": 7,
   "metadata": {
    "collapsed": false
   },
   "outputs": [],
   "source": [
    "#pcg = flopy.modflow.ModflowPcg(mf, relax=1)\n",
    "nwt = flopy.modflow.ModflowNwt(m)"
   ]
  },
  {
   "cell_type": "code",
   "execution_count": 8,
   "metadata": {
    "collapsed": false
   },
   "outputs": [],
   "source": [
    "# recharge package\n",
    "rch = flopy.modflow.mfrch.ModflowRch(m, nrchop=3, rech=R, irch=1, extension='rch', unitnumber=19)"
   ]
  },
  {
   "cell_type": "markdown",
   "metadata": {},
   "source": [
    "#### Make the hydraulic conductivity array (upw package):"
   ]
  },
  {
   "cell_type": "code",
   "execution_count": 9,
   "metadata": {
    "collapsed": false
   },
   "outputs": [
    {
     "data": {
      "image/png": "[encoded data removed]",
      "text/plain": [
       "<matplotlib.figure.Figure at 0x10c706210>"
      ]
     },
     "metadata": {},
     "output_type": "display_data"
    }
   ],
   "source": [
    "Kzones = np.ones((15, 15))\n",
    "Kzones[4:6, 3:9] = 2 # rows 5 and 6, columns 4-8 have silt\n",
    "plt.imshow(Kzones, interpolation='none')\n",
    "\n",
    "# save the Kzones for calibration with PEST\n",
    "np.savetxt(os.path.join(path,'Kzones.dat'), Kzones, delimiter=' ', fmt='%i')"
   ]
  },
  {
   "cell_type": "code",
   "execution_count": 10,
   "metadata": {
    "collapsed": false
   },
   "outputs": [
    {
     "data": {
      "image/png": "[encoded data removed]",
      "text/plain": [
       "<matplotlib.figure.Figure at 0x10d284c90>"
      ]
     },
     "metadata": {},
     "output_type": "display_data"
    }
   ],
   "source": [
    "# assign K values based on zone\n",
    "hk = np.ones((15, 15), dtype=float) # initialize new array for Kvalues\n",
    "for zone, value in Khvalues.items(): hk[Kzones == zone] = value \n",
    "\n",
    "# make the upw object\n",
    "#lpf = flopy.modflow.ModflowLpf(mf, hk=hk, vka=vka, sy=sy, ss=ss, laytyp=laytyp)\n",
    "upw = flopy.modflow.ModflowUpw(m, hk=hk, vka=1, sy=sy, ss=ss, laytyp=laytyp)\n",
    "\n",
    "# plot the horizontal K array\n",
    "ax = upw.hk.plot(colorbar=True, grid=True)"
   ]
  },
  {
   "cell_type": "markdown",
   "metadata": {},
   "source": [
    "#### Now make the river cells:"
   ]
  },
  {
   "cell_type": "code",
   "execution_count": 11,
   "metadata": {
    "collapsed": false
   },
   "outputs": [
    {
     "data": {
      "text/html": [
       "<div>\n",
       "<table border=\"1\" class=\"dataframe\">\n",
       "  <thead>\n",
       "    <tr style=\"text-align: right;\">\n",
       "      <th></th>\n",
       "      <th>layer</th>\n",
       "      <th>row</th>\n",
       "      <th>column</th>\n",
       "      <th>stage</th>\n",
       "      <th>Rcond</th>\n",
       "      <th>rbot</th>\n",
       "    </tr>\n",
       "  </thead>\n",
       "  <tbody>\n",
       "    <tr>\n",
       "      <th>0</th>\n",
       "      <td>0</td>\n",
       "      <td>0</td>\n",
       "      <td>0</td>\n",
       "      <td>510.0</td>\n",
       "      <td>150000</td>\n",
       "      <td>506.0</td>\n",
       "    </tr>\n",
       "    <tr>\n",
       "      <th>1</th>\n",
       "      <td>0</td>\n",
       "      <td>0</td>\n",
       "      <td>1</td>\n",
       "      <td>509.5</td>\n",
       "      <td>150000</td>\n",
       "      <td>505.5</td>\n",
       "    </tr>\n",
       "    <tr>\n",
       "      <th>2</th>\n",
       "      <td>0</td>\n",
       "      <td>0</td>\n",
       "      <td>2</td>\n",
       "      <td>509.0</td>\n",
       "      <td>150000</td>\n",
       "      <td>505.0</td>\n",
       "    </tr>\n",
       "    <tr>\n",
       "      <th>3</th>\n",
       "      <td>0</td>\n",
       "      <td>0</td>\n",
       "      <td>3</td>\n",
       "      <td>508.5</td>\n",
       "      <td>150000</td>\n",
       "      <td>504.5</td>\n",
       "    </tr>\n",
       "    <tr>\n",
       "      <th>4</th>\n",
       "      <td>0</td>\n",
       "      <td>0</td>\n",
       "      <td>4</td>\n",
       "      <td>508.0</td>\n",
       "      <td>150000</td>\n",
       "      <td>504.0</td>\n",
       "    </tr>\n",
       "    <tr>\n",
       "      <th>5</th>\n",
       "      <td>0</td>\n",
       "      <td>0</td>\n",
       "      <td>5</td>\n",
       "      <td>507.5</td>\n",
       "      <td>150000</td>\n",
       "      <td>503.5</td>\n",
       "    </tr>\n",
       "    <tr>\n",
       "      <th>6</th>\n",
       "      <td>0</td>\n",
       "      <td>0</td>\n",
       "      <td>6</td>\n",
       "      <td>507.0</td>\n",
       "      <td>150000</td>\n",
       "      <td>503.0</td>\n",
       "    </tr>\n",
       "    <tr>\n",
       "      <th>7</th>\n",
       "      <td>0</td>\n",
       "      <td>1</td>\n",
       "      <td>7</td>\n",
       "      <td>506.5</td>\n",
       "      <td>150000</td>\n",
       "      <td>502.5</td>\n",
       "    </tr>\n",
       "    <tr>\n",
       "      <th>8</th>\n",
       "      <td>0</td>\n",
       "      <td>2</td>\n",
       "      <td>8</td>\n",
       "      <td>506.0</td>\n",
       "      <td>150000</td>\n",
       "      <td>502.0</td>\n",
       "    </tr>\n",
       "    <tr>\n",
       "      <th>9</th>\n",
       "      <td>0</td>\n",
       "      <td>2</td>\n",
       "      <td>9</td>\n",
       "      <td>505.5</td>\n",
       "      <td>150000</td>\n",
       "      <td>501.5</td>\n",
       "    </tr>\n",
       "    <tr>\n",
       "      <th>10</th>\n",
       "      <td>0</td>\n",
       "      <td>2</td>\n",
       "      <td>10</td>\n",
       "      <td>505.0</td>\n",
       "      <td>150000</td>\n",
       "      <td>501.0</td>\n",
       "    </tr>\n",
       "    <tr>\n",
       "      <th>11</th>\n",
       "      <td>0</td>\n",
       "      <td>2</td>\n",
       "      <td>11</td>\n",
       "      <td>504.5</td>\n",
       "      <td>150000</td>\n",
       "      <td>500.5</td>\n",
       "    </tr>\n",
       "    <tr>\n",
       "      <th>12</th>\n",
       "      <td>0</td>\n",
       "      <td>1</td>\n",
       "      <td>12</td>\n",
       "      <td>504.0</td>\n",
       "      <td>150000</td>\n",
       "      <td>500.0</td>\n",
       "    </tr>\n",
       "    <tr>\n",
       "      <th>13</th>\n",
       "      <td>0</td>\n",
       "      <td>1</td>\n",
       "      <td>13</td>\n",
       "      <td>503.5</td>\n",
       "      <td>150000</td>\n",
       "      <td>499.5</td>\n",
       "    </tr>\n",
       "    <tr>\n",
       "      <th>14</th>\n",
       "      <td>0</td>\n",
       "      <td>0</td>\n",
       "      <td>14</td>\n",
       "      <td>503.0</td>\n",
       "      <td>150000</td>\n",
       "      <td>499.0</td>\n",
       "    </tr>\n",
       "  </tbody>\n",
       "</table>\n",
       "</div>"
      ],
      "text/plain": [
       "    layer  row  column  stage   Rcond   rbot\n",
       "0       0    0       0  510.0  150000  506.0\n",
       "1       0    0       1  509.5  150000  505.5\n",
       "2       0    0       2  509.0  150000  505.0\n",
       "3       0    0       3  508.5  150000  504.5\n",
       "4       0    0       4  508.0  150000  504.0\n",
       "5       0    0       5  507.5  150000  503.5\n",
       "6       0    0       6  507.0  150000  503.0\n",
       "7       0    1       7  506.5  150000  502.5\n",
       "8       0    2       8  506.0  150000  502.0\n",
       "9       0    2       9  505.5  150000  501.5\n",
       "10      0    2      10  505.0  150000  501.0\n",
       "11      0    2      11  504.5  150000  500.5\n",
       "12      0    1      12  504.0  150000  500.0\n",
       "13      0    1      13  503.5  150000  499.5\n",
       "14      0    0      14  503.0  150000  499.0"
      ]
     },
     "execution_count": 11,
     "metadata": {},
     "output_type": "execute_result"
    }
   ],
   "source": [
    "# bring in river cell information from csv file\n",
    "rivcells = pd.read_csv('rivercells.csv')\n",
    "\n",
    "# convert indices to zero-based\n",
    "rivcells[['layer', 'row', 'column']] = rivcells[['layer', 'row', 'column']] -1\n",
    "\n",
    "rivcells"
   ]
  },
  {
   "cell_type": "code",
   "execution_count": 12,
   "metadata": {
    "collapsed": false
   },
   "outputs": [
    {
     "data": {
      "text/plain": [
       "{0: array([[  0.00000000e+00,   0.00000000e+00,   0.00000000e+00,\n",
       "           5.10000000e+02,   1.50000000e+05,   5.06000000e+02],\n",
       "        [  0.00000000e+00,   0.00000000e+00,   1.00000000e+00,\n",
       "           5.09500000e+02,   1.50000000e+05,   5.05500000e+02],\n",
       "        [  0.00000000e+00,   0.00000000e+00,   2.00000000e+00,\n",
       "           5.09000000e+02,   1.50000000e+05,   5.05000000e+02],\n",
       "        [  0.00000000e+00,   0.00000000e+00,   3.00000000e+00,\n",
       "           5.08500000e+02,   1.50000000e+05,   5.04500000e+02],\n",
       "        [  0.00000000e+00,   0.00000000e+00,   4.00000000e+00,\n",
       "           5.08000000e+02,   1.50000000e+05,   5.04000000e+02],\n",
       "        [  0.00000000e+00,   0.00000000e+00,   5.00000000e+00,\n",
       "           5.07500000e+02,   1.50000000e+05,   5.03500000e+02],\n",
       "        [  0.00000000e+00,   0.00000000e+00,   6.00000000e+00,\n",
       "           5.07000000e+02,   1.50000000e+05,   5.03000000e+02],\n",
       "        [  0.00000000e+00,   1.00000000e+00,   7.00000000e+00,\n",
       "           5.06500000e+02,   1.50000000e+05,   5.02500000e+02],\n",
       "        [  0.00000000e+00,   2.00000000e+00,   8.00000000e+00,\n",
       "           5.06000000e+02,   1.50000000e+05,   5.02000000e+02],\n",
       "        [  0.00000000e+00,   2.00000000e+00,   9.00000000e+00,\n",
       "           5.05500000e+02,   1.50000000e+05,   5.01500000e+02],\n",
       "        [  0.00000000e+00,   2.00000000e+00,   1.00000000e+01,\n",
       "           5.05000000e+02,   1.50000000e+05,   5.01000000e+02],\n",
       "        [  0.00000000e+00,   2.00000000e+00,   1.10000000e+01,\n",
       "           5.04500000e+02,   1.50000000e+05,   5.00500000e+02],\n",
       "        [  0.00000000e+00,   1.00000000e+00,   1.20000000e+01,\n",
       "           5.04000000e+02,   1.50000000e+05,   5.00000000e+02],\n",
       "        [  0.00000000e+00,   1.00000000e+00,   1.30000000e+01,\n",
       "           5.03500000e+02,   1.50000000e+05,   4.99500000e+02],\n",
       "        [  0.00000000e+00,   0.00000000e+00,   1.40000000e+01,\n",
       "           5.03000000e+02,   1.50000000e+05,   4.99000000e+02]])}"
      ]
     },
     "execution_count": 12,
     "metadata": {},
     "output_type": "execute_result"
    }
   ],
   "source": [
    "# update rCond values with single paramter value from top of script\n",
    "rivcells['Rcond'] = Rcond\n",
    "\n",
    "# make dataframe into record array for flopy input\n",
    "rivdata = rivcells.values\n",
    "\n",
    "# need to copy river cell info for each stress period\n",
    "rivdata = {0: rivdata}\n",
    "rivdata"
   ]
  },
  {
   "cell_type": "code",
   "execution_count": 13,
   "metadata": {
    "collapsed": false
   },
   "outputs": [],
   "source": [
    "# make the riv package object\n",
    "riv = flopy.modflow.mfriv.ModflowRiv(m, ipakcb=53, stress_period_data=rivdata, \n",
    "                                     extension='riv', unitnumber=18, options=None, naux=0)"
   ]
  },
  {
   "cell_type": "markdown",
   "metadata": {},
   "source": [
    "#### Make the leaking ditch:"
   ]
  },
  {
   "cell_type": "code",
   "execution_count": 14,
   "metadata": {
    "collapsed": false
   },
   "outputs": [
    {
     "data": {
      "text/plain": [
       "(array([14, 14, 14, 14, 14, 14, 14, 14, 14, 14, 14, 14, 14, 14, 14]),\n",
       " array([ 0,  1,  2,  3,  4,  5,  6,  7,  8,  9, 10, 11, 12, 13, 14]))"
      ]
     },
     "execution_count": 14,
     "metadata": {},
     "output_type": "execute_result"
    }
   ],
   "source": [
    "# designate flux cells\n",
    "ditch_i = np.ones(15, dtype=int) * 14\n",
    "ditch_j = np.arange(0, 15)\n",
    "ditch_i, ditch_j"
   ]
  },
  {
   "cell_type": "code",
   "execution_count": 15,
   "metadata": {
    "collapsed": false
   },
   "outputs": [],
   "source": [
    "ditch_q = Qleak / len(ditch_i) # flow rate in each constant flux cell"
   ]
  },
  {
   "cell_type": "code",
   "execution_count": 16,
   "metadata": {
    "collapsed": false
   },
   "outputs": [
    {
     "data": {
      "text/plain": [
       "{0: [[0, 14, 0, 3000],\n",
       "  [0, 14, 1, 3000],\n",
       "  [0, 14, 2, 3000],\n",
       "  [0, 14, 3, 3000],\n",
       "  [0, 14, 4, 3000],\n",
       "  [0, 14, 5, 3000],\n",
       "  [0, 14, 6, 3000],\n",
       "  [0, 14, 7, 3000],\n",
       "  [0, 14, 8, 3000],\n",
       "  [0, 14, 9, 3000],\n",
       "  [0, 14, 10, 3000],\n",
       "  [0, 14, 11, 3000],\n",
       "  [0, 14, 12, 3000],\n",
       "  [0, 14, 13, 3000],\n",
       "  [0, 14, 14, 3000]],\n",
       " 1: [0, 6, 10, -20000]}"
      ]
     },
     "execution_count": 16,
     "metadata": {},
     "output_type": "execute_result"
    }
   ],
   "source": [
    "# now make list of layer, row, column, q info for each pumping cell, for each stress period\n",
    "bflux = {0: [[0, ditch_i[j], j, ditch_q] for j in ditch_j]}\n",
    "\n",
    "# add pumping well to second (transient) stress period\n",
    "bflux[1] = pumping_well_info\n",
    "\n",
    "bflux"
   ]
  },
  {
   "cell_type": "code",
   "execution_count": 17,
   "metadata": {
    "collapsed": false
   },
   "outputs": [],
   "source": [
    "# create the well package\n",
    "wel = flopy.modflow.ModflowWel(m, stress_period_data=bflux)"
   ]
  },
  {
   "cell_type": "markdown",
   "metadata": {},
   "source": [
    "#### review the packages that have been created"
   ]
  },
  {
   "cell_type": "code",
   "execution_count": 18,
   "metadata": {
    "collapsed": false
   },
   "outputs": [
    {
     "data": {
      "text/plain": [
       "['DIS', 'BAS6', 'OC', 'NWT', 'RCH', 'UPW', 'RIV', 'WEL']"
      ]
     },
     "execution_count": 18,
     "metadata": {},
     "output_type": "execute_result"
    }
   ],
   "source": [
    "m.get_package_list()"
   ]
  },
  {
   "cell_type": "markdown",
   "metadata": {},
   "source": [
    "#### check the model input for common errors"
   ]
  },
  {
   "cell_type": "code",
   "execution_count": 19,
   "metadata": {
    "collapsed": false
   },
   "outputs": [
    {
     "name": "stdout",
     "output_type": "stream",
     "text": [
      "\n",
      "P9Tcal MODEL DATA VALIDATION SUMMARY:\n",
      "  2 Warnings:\n",
      "    2 instances of \r",
      "    RCH package: Mean R/T ratio < checker warning threshold of 2e-08\n",
      "\n",
      "  Checks that passed:\n",
      "    Compatible solver package\n",
      "    Unit number conflicts\n",
      "    BAS6 package: isolated cells in ibound array\n",
      "    BAS6 package: Not a number\n",
      "    RIV package: stage below cell bottom\n",
      "    RIV package: rbot below cell bottom\n",
      "    RIV package: RIV stage below rbots\n",
      "    WEL package: BC indices valid\n",
      "    WEL package: not a number (Nan) entries\n",
      "    WEL package: BC in inactive cells\n",
      "    RCH package: Variable NRCHOP set to 3.\n",
      "    UPW package: zero or negative horizontal hydraulic conductivity values\n",
      "    UPW package: zero or negative vertical hydraulic conductivity values\n",
      "    UPW package: negative horizontal anisotropy values\n",
      "    UPW package: horizontal hydraulic conductivity values below checker threshold of 1e-11\n",
      "    UPW package: horizontal hydraulic conductivity values above checker threshold of 100000.0\n",
      "    UPW package: vertical hydraulic conductivity values below checker threshold of 1e-11\n",
      "    UPW package: vertical hydraulic conductivity values above checker threshold of 100000.0\n",
      "    UPW package: zero or negative specific storage values\n",
      "    UPW package: specific storage values below checker threshold of 1e-06\n",
      "    UPW package: specific storage values above checker threshold of 0.01\n",
      "    UPW package: zero or negative specific yield values\n",
      "    UPW package: specific yield values below checker threshold of 0.01\n",
      "    UPW package: specific yield values above checker threshold of 0.5\n",
      "    DIS package: zero or negative thickness\n",
      "    DIS package: thin cells (less than checker threshold of 1.0)\n",
      "    DIS package: nan values in top array\n",
      "    DIS package: nan values in bottom array\n",
      "\n"
     ]
    },
    {
     "data": {
      "text/plain": [
       "<flopy.utils.check.check instance at 0x10da09320>"
      ]
     },
     "execution_count": 19,
     "metadata": {},
     "output_type": "execute_result"
    }
   ],
   "source": [
    "m.check()"
   ]
  },
  {
   "cell_type": "markdown",
   "metadata": {},
   "source": [
    "#### write input"
   ]
  },
  {
   "cell_type": "code",
   "execution_count": 20,
   "metadata": {
    "collapsed": true
   },
   "outputs": [],
   "source": [
    "#write the model input files\n",
    "m.write_input()"
   ]
  },
  {
   "cell_type": "markdown",
   "metadata": {},
   "source": [
    "#### Visualize model"
   ]
  },
  {
   "cell_type": "code",
   "execution_count": 21,
   "metadata": {
    "collapsed": false
   },
   "outputs": [
    {
     "data": {
      "text/plain": [
       "[[0, 14, 0, 3000],\n",
       " [0, 14, 1, 3000],\n",
       " [0, 14, 2, 3000],\n",
       " [0, 14, 3, 3000],\n",
       " [0, 14, 4, 3000],\n",
       " [0, 14, 5, 3000],\n",
       " [0, 14, 6, 3000],\n",
       " [0, 14, 7, 3000],\n",
       " [0, 14, 8, 3000],\n",
       " [0, 14, 9, 3000],\n",
       " [0, 14, 10, 3000],\n",
       " [0, 14, 11, 3000],\n",
       " [0, 14, 12, 3000],\n",
       " [0, 14, 13, 3000],\n",
       " [0, 14, 14, 3000]]"
      ]
     },
     "execution_count": 21,
     "metadata": {},
     "output_type": "execute_result"
    }
   ],
   "source": [
    "bflux[0]"
   ]
  },
  {
   "cell_type": "code",
   "execution_count": 22,
   "metadata": {
    "collapsed": false
   },
   "outputs": [
    {
     "data": {
      "text/plain": [
       "0     0\n",
       "1     0\n",
       "2     0\n",
       "3     0\n",
       "4     0\n",
       "5     0\n",
       "6     0\n",
       "7     1\n",
       "8     2\n",
       "9     2\n",
       "10    2\n",
       "11    2\n",
       "12    1\n",
       "13    1\n",
       "14    0\n",
       "Name: row, dtype: int64"
      ]
     },
     "execution_count": 22,
     "metadata": {},
     "output_type": "execute_result"
    }
   ],
   "source": [
    "rivcells.row"
   ]
  },
  {
   "cell_type": "code",
   "execution_count": 23,
   "metadata": {
    "collapsed": false
   },
   "outputs": [
    {
     "data": {
      "image/png": "[encoded data removed]",
      "text/plain": [
       "<matplotlib.figure.Figure at 0x10d8d3710>"
      ]
     },
     "metadata": {},
     "output_type": "display_data"
    }
   ],
   "source": [
    "# show the observation locations with the K zones, River cells, and pumping wells\n",
    "fig, ax = plt.subplots()\n",
    "extent = [0, 1500, 0, 1500]\n",
    "\n",
    "# add the river cells and wells to the Kzones array so we can verify where they are\n",
    "Kzones[rivcells.row, rivcells.column] = 0\n",
    "Kzones[ditch_i, ditch_j] = 3\n",
    "    \n",
    "ax.imshow(Kzones, extent=extent, interpolation='None')\n",
    "# bring in observation info\n",
    "obs = pd.read_csv('observations.csv')\n",
    "ax.scatter(obs.X, obs.Y, c='w')\n",
    "\n",
    "# label the wells\n",
    "for i, r in obs.iterrows():\n",
    "    ax.text(r.X +10, r.Y +10, r.Well)"
   ]
  },
  {
   "cell_type": "markdown",
   "metadata": {},
   "source": [
    "#### Run the model\n",
    "can run manually or using flopy if the executable name is supplied as an argument when creating the MODFLOW object  \n",
    "e.g. \n",
    "```\n",
    "flopy.modflow.Modflow(m, exe_name='MODFLOW-NWT.ext')\n",
    "```  \n",
    "and after creating packages\n",
    "```\n",
    "m.run_model()\n",
    "```\n",
    "see the **Flopy Notebook examples** https://github.com/modflowpy/flopy/tree/master/examples/Notebooks"
   ]
  },
  {
   "cell_type": "code",
   "execution_count": 24,
   "metadata": {
    "collapsed": false
   },
   "outputs": [],
   "source": [
    "#m.run_model()"
   ]
  },
  {
   "cell_type": "markdown",
   "metadata": {},
   "source": [
    "### Finally, make the model creation into a class so we can easily regenerate the model with different parameters\n",
    "this class is saved in file ```p9model.py```"
   ]
  },
  {
   "cell_type": "code",
   "execution_count": 25,
   "metadata": {
    "collapsed": false
   },
   "outputs": [],
   "source": [
    "class problem9model:\n",
    "    \n",
    "    MODFLOW_version='mfnwt'\n",
    "    MODFLOW_exe_name='MODFLOW-NWT.exe', \n",
    "\n",
    "    #model domain and grid definition\n",
    "    Lx = 1500.\n",
    "    Ly = 1500.\n",
    "    ztop = 600.\n",
    "    zbot = 450.\n",
    "    nlay = 1\n",
    "    nrow = 15\n",
    "    ncol = 15\n",
    "    delr = Lx / ncol\n",
    "    delc = Ly / nrow\n",
    "    delv = (ztop - zbot) / nlay\n",
    "    botm = np.linspace(ztop, zbot, nlay + 1)\n",
    "\n",
    "    # ibound array\n",
    "    ibound = np.ones((nlay, nrow, ncol), dtype=int)\n",
    "\n",
    "    # starting heads\n",
    "    strt = 515. * np.ones((nlay, nrow, ncol), dtype=float)\n",
    "\n",
    "    # properties\n",
    "    Khvalues = {1: 75, 2: 1} # dictionary of K values by zone number (1 = sand, 2 = silt)\n",
    "    Vani = 1.\n",
    "    sy = 0.1\n",
    "    ss = 1.e-4\n",
    "    laytyp = 1\n",
    "\n",
    "    # global BC settings\n",
    "    m_riv = 2 # riverbed thickness\n",
    "    w_riv = 100 # riverbed width\n",
    "    R = 0.0001 # recharge rate\n",
    "    Qleak = 45000 # flow through southern boundary (pos. = inflow)\n",
    "    Rcond = 150000\n",
    "\n",
    "    # pumping well for transient simulation\n",
    "    QA = -20000\n",
    "    pumping_well_info = [0, 6, 10, QA] # l, r, c, Q zero-based for flopy!\n",
    "\n",
    "    # Stress Periods\n",
    "    nper = 2\n",
    "    perlen = [1, 3]\n",
    "    nstp = [1, 10]\n",
    "    tsmult = [1, 2]\n",
    "    steady = [True, False]\n",
    "    \n",
    "    # Kzones\n",
    "    Kzones = np.ones((15, 15))\n",
    "    Kzones[4:6, 3:9] = 2 # rows 5 and 6, columns 4-8 have silt\n",
    "    hk = np.ones((15, 15), dtype=float) # initialize new array for Kvalues\n",
    "    \n",
    "    # leaking ditch\n",
    "    ditch_i = np.ones(15, dtype=int) * 14\n",
    "    ditch_j = np.arange(0, 15)\n",
    "    ditch_q = Qleak / len(ditch_i)\n",
    "    bflux = {0: [[0, ditch_i[j], j, ditch_q] for j in ditch_j]}\n",
    "    bflux[1] = pumping_well_info\n",
    "    \n",
    "    def __init__(self, basename, model_ws):\n",
    "        self.basename = basename\n",
    "        self.model_ws = model_ws\n",
    "        \n",
    "    def create_input(self):\n",
    "        m = flopy.modflow.Modflow(self.basename, \n",
    "                                       version=self.MODFLOW_version, \n",
    "                                       exe_name=self.MODFLOW_exe_name, \n",
    "                                       model_ws=self.model_ws)\n",
    "        dis = flopy.modflow.ModflowDis(m, self.nlay, \n",
    "                                       self.nrow, \n",
    "                                       self.ncol, \n",
    "                                       delr=self.delr, \n",
    "                                       delc=self.delc,\n",
    "                                       top=self.ztop, \n",
    "                                       botm=self.botm[1:],\n",
    "                                       nper=self.nper, \n",
    "                                       perlen=self.perlen, \n",
    "                                       tsmult=self.tsmult, \n",
    "                                       nstp=self.nstp, \n",
    "                                       steady=self.steady)\n",
    "        bas = flopy.modflow.ModflowBas(m, \n",
    "                                       ibound=self.ibound, \n",
    "                                       strt=self.strt)\n",
    "        \n",
    "        words = ['save head','save drawdown','save budget']\n",
    "        oc = flopy.modflow.ModflowOc(m, stress_period_data={(0,0): words}, compact=True)\n",
    "        nwt = flopy.modflow.ModflowNwt(m)\n",
    "        rch = flopy.modflow.mfrch.ModflowRch(m, nrchop=3, rech=self.R, \n",
    "                                             irch=1, extension='rch', unitnumber=19)\n",
    "        \n",
    "        for zone, value in self.Khvalues.items(): self.hk[self.Kzones == zone] = value\n",
    "        upw = flopy.modflow.ModflowUpw(m, hk=self.hk, vka=1, \n",
    "                                       sy=self.sy, ss=self.ss, laytyp=self.laytyp)\n",
    "\n",
    "        rivcells = pd.read_csv('rivercells.csv')\n",
    "        rivcells[['layer', 'row', 'column']] = rivcells[['layer', 'row', 'column']] -1\n",
    "        rivcells['Rcond'] = self.Rcond\n",
    "        rivdata = {0: rivcells.values}\n",
    "        \n",
    "        riv = flopy.modflow.mfriv.ModflowRiv(m, ipakcb=53, stress_period_data=rivdata, \n",
    "                                     extension='riv', unitnumber=18, options=None, naux=0)\n",
    "        \n",
    "        wel = flopy.modflow.ModflowWel(m, stress_period_data=self.bflux)\n",
    "        \n",
    "        self.m = m\n",
    "        m.write_input()"
   ]
  },
  {
   "cell_type": "code",
   "execution_count": null,
   "metadata": {
    "collapsed": true
   },
   "outputs": [],
   "source": []
  }
 ],
 "metadata": {
  "kernelspec": {
   "display_name": "Python 2",
   "language": "python",
   "name": "python2"
  },
  "language_info": {
   "codemirror_mode": {
    "name": "ipython",
    "version": 2
   },
   "file_extension": ".py",
   "mimetype": "text/x-python",
   "name": "python",
   "nbconvert_exporter": "python",
   "pygments_lexer": "ipython2",
   "version": "2.7.11"
  }
 },
 "nbformat": 4,
 "nbformat_minor": 0
}
