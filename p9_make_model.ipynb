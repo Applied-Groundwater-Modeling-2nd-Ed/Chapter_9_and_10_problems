{
 "cells": [
  {
   "cell_type": "markdown",
   "metadata": {},
   "source": [
    "### Chapter 9 problem: making the model using Flopy\n",
    "see Anderson, Woessner and Hunt (2015), p 432 for a description\n",
    "\n",
    "requires the ```flopy``` package (https://github.com/modflowpy/flopy)"
   ]
  },
  {
   "cell_type": "markdown",
   "metadata": {},
   "source": [
    "#### Define general model characteristics"
   ]
  },
  {
   "cell_type": "code",
   "execution_count": 25,
   "metadata": {
    "collapsed": false
   },
   "outputs": [],
   "source": [
    "import os\n",
    "import numpy as np\n",
    "import matplotlib.pyplot as plt\n",
    "import pandas as pd\n",
    "import flopy\n",
    "\n",
    "%matplotlib inline\n",
    "\n",
    "path = 'modelfiles' # folder model and PEST files\n",
    "\n",
    "#model domain and grid definition\n",
    "Lx = 1500.\n",
    "Ly = 1500.\n",
    "ztop = 600.\n",
    "zbot = 450.\n",
    "nlay = 1\n",
    "nrow = 15\n",
    "ncol = 15\n",
    "delr = Lx / ncol\n",
    "delc = Ly / nrow\n",
    "delv = (ztop - zbot) / nlay\n",
    "botm = np.linspace(ztop, zbot, nlay + 1)\n",
    "\n",
    "# properties\n",
    "Khvalues = {1: 44, 2: 5.5} # dictionary of K values by zone number (1 = sand, 2 = silt)\n",
    "Vani = 1.\n",
    "sy = 0.1\n",
    "ss = 1.e-4\n",
    "laytyp = 1\n",
    "\n",
    "# global BC settings\n",
    "m_riv = 2 # riverbed thickness\n",
    "w_riv = 100 # riverbed width\n",
    "R = 0.0001 # recharge rate\n",
    "Qleak = 45000 # flow through southern boundary (pos. = inflow)\n",
    "Rcond = 150000\n",
    "\n",
    "# pumping well for transient simulation\n",
    "QA = -20000\n",
    "pumping_well_info = [0, 6, 10, QA] # l, r, c, Q zero-based for flopy!\n",
    "\n",
    "# Stress Periods\n",
    "nper = 2\n",
    "perlen = [1, 3]\n",
    "nstp = [1, 10]\n",
    "tsmult = [1, 2]\n",
    "steady = [True, False]"
   ]
  },
  {
   "cell_type": "code",
   "execution_count": 26,
   "metadata": {
    "collapsed": true
   },
   "outputs": [],
   "source": [
    "# create flopy objects for packages\n",
    "modelname = 'P9Tcal'\n",
    "m = flopy.modflow.Modflow(modelname, version='mfnwt', model_ws=path)"
   ]
  },
  {
   "cell_type": "code",
   "execution_count": 27,
   "metadata": {
    "collapsed": true
   },
   "outputs": [],
   "source": [
    "dis = flopy.modflow.ModflowDis(m, nlay, nrow, ncol, delr=delr, delc=delc,\n",
    "                               top=ztop, botm=botm[1:],\n",
    "                               nper=nper, perlen=perlen, tsmult=tsmult, nstp=nstp, steady=steady)"
   ]
  },
  {
   "cell_type": "code",
   "execution_count": 28,
   "metadata": {
    "collapsed": true
   },
   "outputs": [],
   "source": [
    "# Variables for the BAS package\n",
    "# Note that changes from the previous tutorial!\n",
    "ibound = np.ones((nlay, nrow, ncol), dtype=np.int32)\n",
    "strt = 515. * np.ones((nlay, nrow, ncol), dtype=np.float32) # starting heads\n",
    "bas = flopy.modflow.ModflowBas(m, ibound=ibound, strt=strt)"
   ]
  },
  {
   "cell_type": "code",
   "execution_count": 29,
   "metadata": {
    "collapsed": false
   },
   "outputs": [],
   "source": [
    "# Output Control\n",
    "words = ['save head','save drawdown','save budget']\n",
    "save_head_every = 1\n",
    "\n",
    "stress_period_data = {(0,0): words}\n",
    "oc = flopy.modflow.ModflowOc(m, stress_period_data=stress_period_data, compact=True)"
   ]
  },
  {
   "cell_type": "code",
   "execution_count": 30,
   "metadata": {
    "collapsed": false
   },
   "outputs": [],
   "source": [
    "# solver\n",
    "#pcg = flopy.modflow.ModflowPcg(mf, relax=1)\n",
    "nwt = flopy.modflow.ModflowNwt(m)"
   ]
  },
  {
   "cell_type": "code",
   "execution_count": 31,
   "metadata": {
    "collapsed": false
   },
   "outputs": [],
   "source": [
    "# recharge package\n",
    "rch = flopy.modflow.mfrch.ModflowRch(m, nrchop=3, rech=R, irch=1, extension='rch', unitnumber=19)"
   ]
  },
  {
   "cell_type": "markdown",
   "metadata": {},
   "source": [
    "#### Make the hydraulic conductivity array (upw package):"
   ]
  },
  {
   "cell_type": "code",
   "execution_count": 32,
   "metadata": {
    "collapsed": false
   },
   "outputs": [
    {
     "data": {
      "text/plain": [
       "array([78, 79, 80, 81, 82, 83, 93, 94, 95, 96, 97, 98])"
      ]
     },
     "execution_count": 32,
     "metadata": {},
     "output_type": "execute_result"
    }
   ],
   "source": [
    "# cell numbers with silt\n",
    "silt = np.append(np.arange(78, 84), np.arange(93, 99))\n",
    "silt"
   ]
  },
  {
   "cell_type": "code",
   "execution_count": 33,
   "metadata": {
    "collapsed": false
   },
   "outputs": [
    {
     "data": {
      "image/png": "[encoded data removed]",
      "text/plain": [
       "<matplotlib.figure.Figure at 0x10b57a438>"
      ]
     },
     "metadata": {},
     "output_type": "display_data"
    }
   ],
   "source": [
    "# now creaty Kzones array and assign second zone value to cells with silt\n",
    "Kzones = np.ones(225) * 1\n",
    "Kzones[silt] = 2\n",
    "Kzones = np.reshape(Kzones, (15, 15))\n",
    "\n",
    "# show the Kzones array\n",
    "plt.imshow(Kzones, interpolation='none')\n",
    "\n",
    "# save the Kzones for calibration with PEST\n",
    "np.savetxt(os.path.join(path,'Kzones.dat'), Kzones, delimiter=' ', fmt='%i')"
   ]
  },
  {
   "cell_type": "code",
   "execution_count": 34,
   "metadata": {
    "collapsed": false
   },
   "outputs": [],
   "source": [
    "# assign K values based on zone\n",
    "hk = np.ones((15, 15), dtype=float) # initialize new array for Kvalues\n",
    "for z, v in Khvalues.items(): hk[Kzones == z] = v # assign K value corresponding to zone for each value in Kzones array\n",
    "\n",
    "# make the lpf object\n",
    "#lpf = flopy.modflow.ModflowLpf(mf, hk=hk, vka=vka, sy=sy, ss=ss, laytyp=laytyp)\n",
    "upw = flopy.modflow.ModflowUpw(m, hk=hk, vka=1, sy=sy, ss=ss, laytyp=laytyp)"
   ]
  },
  {
   "cell_type": "code",
   "execution_count": 35,
   "metadata": {
    "collapsed": false
   },
   "outputs": [
    {
     "name": "stderr",
     "output_type": "stream",
     "text": [
      "//anaconda/envs/py34/lib/python3.4/site-packages/flopy/modflow/mfdis.py:164: UserWarning: ModflowDis.sr is deprecated. use Modflow.sr\n",
      "  warnings.warn(\"ModflowDis.sr is deprecated. use Modflow.sr\")\n",
      "//anaconda/envs/py34/lib/python3.4/site-packages/matplotlib/collections.py:590: FutureWarning: elementwise comparison failed; returning scalar instead, but in the future will perform elementwise comparison\n",
      "  if self._edgecolors == str('face'):\n"
     ]
    },
    {
     "data": {
      "image/png": "[encoded data removed]",
      "text/plain": [
       "<matplotlib.figure.Figure at 0x10b49b0f0>"
      ]
     },
     "metadata": {},
     "output_type": "display_data"
    }
   ],
   "source": [
    "ax = upw.hk.plot(colorbar=True)"
   ]
  },
  {
   "cell_type": "markdown",
   "metadata": {},
   "source": [
    "#### Now make the river cells:"
   ]
  },
  {
   "cell_type": "code",
   "execution_count": 36,
   "metadata": {
    "collapsed": false
   },
   "outputs": [
    {
     "data": {
      "text/html": [
       "<div>\n",
       "<table border=\"1\" class=\"dataframe\">\n",
       "  <thead>\n",
       "    <tr style=\"text-align: right;\">\n",
       "      <th></th>\n",
       "      <th>layer</th>\n",
       "      <th>row</th>\n",
       "      <th>column</th>\n",
       "      <th>stage</th>\n",
       "      <th>Rcond</th>\n",
       "      <th>rbot</th>\n",
       "    </tr>\n",
       "  </thead>\n",
       "  <tbody>\n",
       "    <tr>\n",
       "      <th>0</th>\n",
       "      <td>1</td>\n",
       "      <td>1</td>\n",
       "      <td>1</td>\n",
       "      <td>510.0</td>\n",
       "      <td>150000</td>\n",
       "      <td>506.0</td>\n",
       "    </tr>\n",
       "    <tr>\n",
       "      <th>1</th>\n",
       "      <td>1</td>\n",
       "      <td>1</td>\n",
       "      <td>2</td>\n",
       "      <td>509.5</td>\n",
       "      <td>150000</td>\n",
       "      <td>505.5</td>\n",
       "    </tr>\n",
       "    <tr>\n",
       "      <th>2</th>\n",
       "      <td>1</td>\n",
       "      <td>1</td>\n",
       "      <td>3</td>\n",
       "      <td>509.0</td>\n",
       "      <td>150000</td>\n",
       "      <td>505.0</td>\n",
       "    </tr>\n",
       "    <tr>\n",
       "      <th>3</th>\n",
       "      <td>1</td>\n",
       "      <td>1</td>\n",
       "      <td>4</td>\n",
       "      <td>508.5</td>\n",
       "      <td>150000</td>\n",
       "      <td>504.5</td>\n",
       "    </tr>\n",
       "    <tr>\n",
       "      <th>4</th>\n",
       "      <td>1</td>\n",
       "      <td>1</td>\n",
       "      <td>5</td>\n",
       "      <td>508.0</td>\n",
       "      <td>150000</td>\n",
       "      <td>504.0</td>\n",
       "    </tr>\n",
       "    <tr>\n",
       "      <th>5</th>\n",
       "      <td>1</td>\n",
       "      <td>1</td>\n",
       "      <td>6</td>\n",
       "      <td>507.5</td>\n",
       "      <td>150000</td>\n",
       "      <td>503.5</td>\n",
       "    </tr>\n",
       "    <tr>\n",
       "      <th>6</th>\n",
       "      <td>1</td>\n",
       "      <td>1</td>\n",
       "      <td>7</td>\n",
       "      <td>507.0</td>\n",
       "      <td>150000</td>\n",
       "      <td>503.0</td>\n",
       "    </tr>\n",
       "    <tr>\n",
       "      <th>7</th>\n",
       "      <td>1</td>\n",
       "      <td>2</td>\n",
       "      <td>8</td>\n",
       "      <td>506.5</td>\n",
       "      <td>150000</td>\n",
       "      <td>502.5</td>\n",
       "    </tr>\n",
       "    <tr>\n",
       "      <th>8</th>\n",
       "      <td>1</td>\n",
       "      <td>3</td>\n",
       "      <td>9</td>\n",
       "      <td>506.0</td>\n",
       "      <td>150000</td>\n",
       "      <td>502.0</td>\n",
       "    </tr>\n",
       "    <tr>\n",
       "      <th>9</th>\n",
       "      <td>1</td>\n",
       "      <td>3</td>\n",
       "      <td>10</td>\n",
       "      <td>505.5</td>\n",
       "      <td>150000</td>\n",
       "      <td>501.5</td>\n",
       "    </tr>\n",
       "    <tr>\n",
       "      <th>10</th>\n",
       "      <td>1</td>\n",
       "      <td>3</td>\n",
       "      <td>11</td>\n",
       "      <td>505.0</td>\n",
       "      <td>150000</td>\n",
       "      <td>501.0</td>\n",
       "    </tr>\n",
       "    <tr>\n",
       "      <th>11</th>\n",
       "      <td>1</td>\n",
       "      <td>3</td>\n",
       "      <td>12</td>\n",
       "      <td>504.5</td>\n",
       "      <td>150000</td>\n",
       "      <td>500.5</td>\n",
       "    </tr>\n",
       "    <tr>\n",
       "      <th>12</th>\n",
       "      <td>1</td>\n",
       "      <td>2</td>\n",
       "      <td>13</td>\n",
       "      <td>504.0</td>\n",
       "      <td>150000</td>\n",
       "      <td>500.0</td>\n",
       "    </tr>\n",
       "    <tr>\n",
       "      <th>13</th>\n",
       "      <td>1</td>\n",
       "      <td>2</td>\n",
       "      <td>14</td>\n",
       "      <td>503.5</td>\n",
       "      <td>150000</td>\n",
       "      <td>499.5</td>\n",
       "    </tr>\n",
       "    <tr>\n",
       "      <th>14</th>\n",
       "      <td>1</td>\n",
       "      <td>1</td>\n",
       "      <td>15</td>\n",
       "      <td>503.0</td>\n",
       "      <td>150000</td>\n",
       "      <td>499.0</td>\n",
       "    </tr>\n",
       "  </tbody>\n",
       "</table>\n",
       "</div>"
      ],
      "text/plain": [
       "    layer  row  column  stage   Rcond   rbot\n",
       "0       1    1       1  510.0  150000  506.0\n",
       "1       1    1       2  509.5  150000  505.5\n",
       "2       1    1       3  509.0  150000  505.0\n",
       "3       1    1       4  508.5  150000  504.5\n",
       "4       1    1       5  508.0  150000  504.0\n",
       "5       1    1       6  507.5  150000  503.5\n",
       "6       1    1       7  507.0  150000  503.0\n",
       "7       1    2       8  506.5  150000  502.5\n",
       "8       1    3       9  506.0  150000  502.0\n",
       "9       1    3      10  505.5  150000  501.5\n",
       "10      1    3      11  505.0  150000  501.0\n",
       "11      1    3      12  504.5  150000  500.5\n",
       "12      1    2      13  504.0  150000  500.0\n",
       "13      1    2      14  503.5  150000  499.5\n",
       "14      1    1      15  503.0  150000  499.0"
      ]
     },
     "execution_count": 36,
     "metadata": {},
     "output_type": "execute_result"
    }
   ],
   "source": [
    "# bring in river cell information from csv file\n",
    "rivcells = pd.read_csv('rivercells.csv')\n",
    "rivcells"
   ]
  },
  {
   "cell_type": "code",
   "execution_count": 37,
   "metadata": {
    "collapsed": false
   },
   "outputs": [
    {
     "data": {
      "text/plain": [
       "{0: [[0.0, 0.0, 0.0, 510.0, 150000.0, 506.0],\n",
       "  [0.0, 0.0, 1.0, 509.5, 150000.0, 505.5],\n",
       "  [0.0, 0.0, 2.0, 509.0, 150000.0, 505.0],\n",
       "  [0.0, 0.0, 3.0, 508.5, 150000.0, 504.5],\n",
       "  [0.0, 0.0, 4.0, 508.0, 150000.0, 504.0],\n",
       "  [0.0, 0.0, 5.0, 507.5, 150000.0, 503.5],\n",
       "  [0.0, 0.0, 6.0, 507.0, 150000.0, 503.0],\n",
       "  [0.0, 1.0, 7.0, 506.5, 150000.0, 502.5],\n",
       "  [0.0, 2.0, 8.0, 506.0, 150000.0, 502.0],\n",
       "  [0.0, 2.0, 9.0, 505.5, 150000.0, 501.5],\n",
       "  [0.0, 2.0, 10.0, 505.0, 150000.0, 501.0],\n",
       "  [0.0, 2.0, 11.0, 504.5, 150000.0, 500.5],\n",
       "  [0.0, 1.0, 12.0, 504.0, 150000.0, 500.0],\n",
       "  [0.0, 1.0, 13.0, 503.5, 150000.0, 499.5],\n",
       "  [0.0, 0.0, 14.0, 503.0, 150000.0, 499.0]]}"
      ]
     },
     "execution_count": 37,
     "metadata": {},
     "output_type": "execute_result"
    }
   ],
   "source": [
    "# convert indices to zero-based\n",
    "rivcells[['layer', 'row', 'column']] = rivcells[['layer', 'row', 'column']] -1\n",
    "\n",
    "# update rCond values with single paramter value from top of script\n",
    "rivcells['Rcond'] = Rcond\n",
    "\n",
    "# make dataframe into list for flopy input\n",
    "rivdata = rivcells.values.tolist()\n",
    "\n",
    "# need to copy river cell info for each stress period\n",
    "rivdata = {0: rivdata}\n",
    "rivdata"
   ]
  },
  {
   "cell_type": "code",
   "execution_count": 38,
   "metadata": {
    "collapsed": false
   },
   "outputs": [
    {
     "name": "stderr",
     "output_type": "stream",
     "text": [
      "//anaconda/envs/py34/lib/python3.4/site-packages/flopy/modflow/mfdis.py:164: UserWarning: ModflowDis.sr is deprecated. use Modflow.sr\n",
      "  warnings.warn(\"ModflowDis.sr is deprecated. use Modflow.sr\")\n"
     ]
    }
   ],
   "source": [
    "# make the riv package object\n",
    "riv = flopy.modflow.mfriv.ModflowRiv(m, ipakcb=59, stress_period_data=rivdata, \n",
    "                                     extension='riv', unitnumber=18, options=None, naux=0)"
   ]
  },
  {
   "cell_type": "code",
   "execution_count": 39,
   "metadata": {
    "collapsed": false
   },
   "outputs": [
    {
     "data": {
      "text/plain": [
       "'P9Tcal.nam'"
      ]
     },
     "execution_count": 39,
     "metadata": {},
     "output_type": "execute_result"
    }
   ],
   "source": [
    "m.namefile"
   ]
  },
  {
   "cell_type": "markdown",
   "metadata": {},
   "source": [
    "#### Make the leaking ditch:"
   ]
  },
  {
   "cell_type": "code",
   "execution_count": 40,
   "metadata": {
    "collapsed": false
   },
   "outputs": [
    {
     "data": {
      "text/plain": [
       "[(14, 0),\n",
       " (14, 1),\n",
       " (14, 2),\n",
       " (14, 3),\n",
       " (14, 4),\n",
       " (14, 5),\n",
       " (14, 6),\n",
       " (14, 7),\n",
       " (14, 8),\n",
       " (14, 9),\n",
       " (14, 10),\n",
       " (14, 11),\n",
       " (14, 12),\n",
       " (14, 13),\n",
       " (14, 14)]"
      ]
     },
     "execution_count": 40,
     "metadata": {},
     "output_type": "execute_result"
    }
   ],
   "source": [
    "# designate flux cells\n",
    "flux_cells = list(zip(np.ones(15, dtype=int) * 14, np.arange(0, 15)))\n",
    "flux_cells\n"
   ]
  },
  {
   "cell_type": "code",
   "execution_count": 41,
   "metadata": {
    "collapsed": false
   },
   "outputs": [],
   "source": [
    "q = Qleak / len(flux_cells) # flow rate in each constant flux cell"
   ]
  },
  {
   "cell_type": "code",
   "execution_count": 42,
   "metadata": {
    "collapsed": false
   },
   "outputs": [
    {
     "data": {
      "text/plain": [
       "{0: [[0, 14, 0, 3000.0],\n",
       "  [0, 14, 1, 3000.0],\n",
       "  [0, 14, 2, 3000.0],\n",
       "  [0, 14, 3, 3000.0],\n",
       "  [0, 14, 4, 3000.0],\n",
       "  [0, 14, 5, 3000.0],\n",
       "  [0, 14, 6, 3000.0],\n",
       "  [0, 14, 7, 3000.0],\n",
       "  [0, 14, 8, 3000.0],\n",
       "  [0, 14, 9, 3000.0],\n",
       "  [0, 14, 10, 3000.0],\n",
       "  [0, 14, 11, 3000.0],\n",
       "  [0, 14, 12, 3000.0],\n",
       "  [0, 14, 13, 3000.0],\n",
       "  [0, 14, 14, 3000.0]],\n",
       " 1: [0, 6, 10, -20000]}"
      ]
     },
     "execution_count": 42,
     "metadata": {},
     "output_type": "execute_result"
    }
   ],
   "source": [
    "# now make list of layer, row, column, q info for each pumping cell, for each stress period\n",
    "bflux = {0: [[0, c[0], c[1], q] for c in flux_cells]}\n",
    "\n",
    "# add pumping well to second (transient) stress period\n",
    "bflux[1] = pumping_well_info\n",
    "\n",
    "bflux"
   ]
  },
  {
   "cell_type": "code",
   "execution_count": 43,
   "metadata": {
    "collapsed": false
   },
   "outputs": [
    {
     "name": "stderr",
     "output_type": "stream",
     "text": [
      "//anaconda/envs/py34/lib/python3.4/site-packages/flopy/modflow/mfdis.py:164: UserWarning: ModflowDis.sr is deprecated. use Modflow.sr\n",
      "  warnings.warn(\"ModflowDis.sr is deprecated. use Modflow.sr\")\n"
     ]
    }
   ],
   "source": [
    "# create the well package\n",
    "wel = flopy.modflow.ModflowWel(m, stress_period_data=bflux)"
   ]
  },
  {
   "cell_type": "markdown",
   "metadata": {},
   "source": [
    "#### review the packages that have been created"
   ]
  },
  {
   "cell_type": "code",
   "execution_count": 44,
   "metadata": {
    "collapsed": false
   },
   "outputs": [
    {
     "data": {
      "text/plain": [
       "['DIS', 'BAS6', 'OC', 'NWT', 'RCH', 'UPW', 'RIV', 'WEL']"
      ]
     },
     "execution_count": 44,
     "metadata": {},
     "output_type": "execute_result"
    }
   ],
   "source": [
    "m.get_package_list()"
   ]
  },
  {
   "cell_type": "markdown",
   "metadata": {},
   "source": [
    "#### check the model input for common errors"
   ]
  },
  {
   "cell_type": "code",
   "execution_count": 45,
   "metadata": {
    "collapsed": false
   },
   "outputs": [
    {
     "name": "stdout",
     "output_type": "stream",
     "text": [
      "\n",
      "P9Tcal MODEL DATA VALIDATION SUMMARY:\n",
      "  2 Warnings:\n",
      "    2 instances of \r",
      "    RCH package: Mean R/T ratio < checker warning threshold of 2e-08\n",
      "\n",
      "  Checks that passed:\n",
      "    Compatible solver package\n",
      "    Unit number conflicts\n",
      "    BAS6 package: isolated cells in ibound array\n",
      "    BAS6 package: Not a number\n",
      "    RIV package: stage below cell bottom\n",
      "    RIV package: rbot below cell bottom\n",
      "    RIV package: RIV stage below rbots\n",
      "    DIS package: zero or negative thickness\n",
      "    DIS package: thin cells (less than checker threshold of 1.0)\n",
      "    DIS package: nan values in top array\n",
      "    DIS package: nan values in bottom array\n",
      "    WEL package: BC indices valid\n",
      "    WEL package: not a number (Nan) entries\n",
      "    WEL package: BC in inactive cells\n",
      "    UPW package: zero or negative vertical hydraulic conductivity values\n",
      "    UPW package: zero or negative horizontal hydraulic conductivity values\n",
      "    UPW package: negative horizontal anisotropy values\n",
      "    UPW package: vertical hydraulic conductivity values below checker threshold of 1e-11\n",
      "    UPW package: vertical hydraulic conductivity values above checker threshold of 100000.0\n",
      "    UPW package: horizontal hydraulic conductivity values below checker threshold of 1e-11\n",
      "    UPW package: horizontal hydraulic conductivity values above checker threshold of 100000.0\n",
      "    UPW package: zero or negative specific storage values\n",
      "    UPW package: specific storage values below checker threshold of 1e-06\n",
      "    UPW package: specific storage values above checker threshold of 0.01\n",
      "    UPW package: zero or negative specific yield values\n",
      "    UPW package: specific yield values below checker threshold of 0.01\n",
      "    UPW package: specific yield values above checker threshold of 0.5\n",
      "    RCH package: Variable NRCHOP set to 3.\n",
      "\n"
     ]
    },
    {
     "data": {
      "text/plain": [
       "<flopy.utils.check.check at 0x10b4a20f0>"
      ]
     },
     "execution_count": 45,
     "metadata": {},
     "output_type": "execute_result"
    }
   ],
   "source": [
    "m.check()"
   ]
  },
  {
   "cell_type": "markdown",
   "metadata": {},
   "source": [
    "#### write input"
   ]
  },
  {
   "cell_type": "code",
   "execution_count": 46,
   "metadata": {
    "collapsed": true
   },
   "outputs": [],
   "source": [
    "#write the model input files\n",
    "m.write_input()"
   ]
  },
  {
   "cell_type": "code",
   "execution_count": 47,
   "metadata": {
    "collapsed": false
   },
   "outputs": [],
   "source": [
    "# manually append info for writing out riv package results to nam file (couldn't figure out how to make flopy do this)\n",
    "nam = open('{}.nam'.format(modelname),'a')\n",
    "nam.write('DATA(BINARY)  59 {}.rivout REPLACE\\n'.format(modelname))\n",
    "nam.close()\n",
    "\n"
   ]
  },
  {
   "cell_type": "markdown",
   "metadata": {},
   "source": [
    "#### Visualize model"
   ]
  },
  {
   "cell_type": "code",
   "execution_count": 48,
   "metadata": {
    "collapsed": false
   },
   "outputs": [
    {
     "data": {
      "text/plain": [
       "<matplotlib.collections.PathCollection at 0x10b56e940>"
      ]
     },
     "execution_count": 48,
     "metadata": {},
     "output_type": "execute_result"
    },
    {
     "name": "stderr",
     "output_type": "stream",
     "text": [
      "//anaconda/envs/py34/lib/python3.4/site-packages/matplotlib/collections.py:590: FutureWarning: elementwise comparison failed; returning scalar instead, but in the future will perform elementwise comparison\n",
      "  if self._edgecolors == str('face'):\n"
     ]
    },
    {
     "data": {
      "image/png": "[encoded data removed]",
      "text/plain": [
       "<matplotlib.figure.Figure at 0x10b888d68>"
      ]
     },
     "metadata": {},
     "output_type": "display_data"
    }
   ],
   "source": [
    "# show the observation locations with the K zones, River cells, and pumping wells\n",
    "fig = plt.figure()\n",
    "ax = fig.add_subplot(111)\n",
    "extent = [0, 1500, 0, 1500]\n",
    "\n",
    "# add the river cells and wells to the Kzones array so we can verify where they are\n",
    "for i in range(len(rivcells)):\n",
    "    Kzones[rivcells.row[i] - 1, rivcells.column[i] - 1] = 0\n",
    "for w in bflux[0]:\n",
    "    r, c = w[1:3]\n",
    "    Kzones[r - 1, c - 1] = 3\n",
    "ax.imshow(Kzones, extent=extent, interpolation='None')\n",
    "\n",
    "# bring in observation info\n",
    "obs = pd.read_csv('observations.csv')\n",
    "ax.scatter(obs.X, obs.Y, c='w')"
   ]
  },
  {
   "cell_type": "markdown",
   "metadata": {},
   "source": [
    "#### Run the model\n",
    "can run manually or using flopy if the executable name is supplied as an argument when creating the MODFLOW object  \n",
    "e.g. \n",
    "```\n",
    "flopy.modflow.Modflow(m, exe_name='MODFLOW-NWT.ext')\n",
    "```  \n",
    "and after creating packages\n",
    "```\n",
    "m.run_model()\n",
    "```\n",
    "see the **Flopy Notebook examples** https://github.com/modflowpy/flopy/tree/master/examples/Notebooks"
   ]
  }
 ],
 "metadata": {
  "kernelspec": {
   "display_name": "Python 3",
   "language": "python",
   "name": "python3"
  },
  "language_info": {
   "codemirror_mode": {
    "name": "ipython",
    "version": 3
   },
   "file_extension": ".py",
   "mimetype": "text/x-python",
   "name": "python",
   "nbconvert_exporter": "python",
   "pygments_lexer": "ipython3",
   "version": "3.4.4"
  }
 },
 "nbformat": 4,
 "nbformat_minor": 0
}
